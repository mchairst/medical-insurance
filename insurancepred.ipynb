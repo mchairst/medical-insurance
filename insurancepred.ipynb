{
 "cells": [
  {
   "cell_type": "code",
   "execution_count": 33,
   "metadata": {},
   "outputs": [],
   "source": [
    "import pandas as pd\n",
    "import matplotlib.pyplot as plt\n",
    "import numpy as np\n",
    "from sklearn.impute import SimpleImputer\n",
    "from sklearn.preprocessing import MinMaxScaler, PolynomialFeatures\n",
    "from sklearn.linear_model import LinearRegression\n",
    "from sklearn.model_selection import train_test_split\n",
    "from sklearn.metrics import mean_squared_error, r2_score\n",
    "from sklearn.ensemble import RandomForestRegressor"
   ]
  },
  {
   "cell_type": "code",
   "execution_count": 3,
   "metadata": {},
   "outputs": [
    {
     "name": "stdout",
     "output_type": "stream",
     "text": [
      "   age     sex     bmi  children smoker     region      charges\n",
      "0   19  female  27.900         0    yes  southwest  16884.92400\n",
      "1   18    male  33.770         1     no  southeast   1725.55230\n",
      "2   28    male  33.000         3     no  southeast   4449.46200\n",
      "3   33    male  22.705         0     no  northwest  21984.47061\n",
      "4   32    male  28.880         0     no  northwest   3866.85520\n"
     ]
    }
   ],
   "source": [
    "df = pd.read_csv('insurance.csv')\n",
    "print(df.head())"
   ]
  },
  {
   "cell_type": "code",
   "execution_count": 34,
   "metadata": {},
   "outputs": [
    {
     "name": "stdout",
     "output_type": "stream",
     "text": [
      "age         0\n",
      "sex         0\n",
      "bmi         0\n",
      "children    0\n",
      "smoker      0\n",
      "region      0\n",
      "charges     0\n",
      "dtype: int64\n"
     ]
    }
   ],
   "source": [
    "#handle missing data\n",
    "missing_values_count = df.isna().sum()\n",
    "\n",
    "print(missing_values_count)\n"
   ]
  },
  {
   "cell_type": "code",
   "execution_count": 7,
   "metadata": {},
   "outputs": [
    {
     "data": {
      "image/png": "[encoded data removed]",
      "text/plain": [
       "<Figure size 640x480 with 1 Axes>"
      ]
     },
     "metadata": {},
     "output_type": "display_data"
    }
   ],
   "source": [
    "# handling outliers using histogram or boxplot method\n",
    "for column in df.columns:\n",
    "    data = df[column]\n",
    "\n",
    "# Handling outliers by capping them at the 1st and 99th percentiles\n",
    "lower_bound = np.percentile(data, 1)\n",
    "upper_bound = np.percentile(data, 99)\n",
    "data = np.clip(data, lower_bound, upper_bound)\n",
    "\n",
    "# Plotting the histogram\n",
    "plt.hist(data, bins=30, edgecolor='black')\n",
    "plt.title('Histogram of column_name')\n",
    "plt.xlabel('Value')\n",
    "plt.ylabel('Frequency')\n",
    "plt.show()"
   ]
  },
  {
   "cell_type": "code",
   "execution_count": 22,
   "metadata": {},
   "outputs": [
    {
     "name": "stdout",
     "output_type": "stream",
     "text": [
      "   age     bmi  children      charges  sex_male  smoker_yes  region_northwest  \\\n",
      "0   19  27.900         0  16884.92400     False        True             False   \n",
      "1   18  33.770         1   1725.55230      True       False             False   \n",
      "2   28  33.000         3   4449.46200      True       False             False   \n",
      "3   33  22.705         0  21984.47061      True       False              True   \n",
      "4   32  28.880         0   3866.85520      True       False              True   \n",
      "\n",
      "   region_southeast  region_southwest  \n",
      "0             False              True  \n",
      "1              True             False  \n",
      "2              True             False  \n",
      "3             False             False  \n",
      "4             False             False  \n"
     ]
    }
   ],
   "source": [
    "#Convert categorical features using either get_dummies or map encoding.\n",
    "df_encoded = pd.get_dummies(df, drop_first=True)\n",
    "\n",
    "print(df_encoded.head())"
   ]
  },
  {
   "cell_type": "code",
   "execution_count": 26,
   "metadata": {},
   "outputs": [],
   "source": [
    "X = df_encoded.drop('charges', axis=1)\n",
    "y = df_encoded['charges']"
   ]
  },
  {
   "cell_type": "code",
   "execution_count": 27,
   "metadata": {},
   "outputs": [
    {
     "name": "stdout",
     "output_type": "stream",
     "text": [
      "        age       bmi  children   charges  sex_male  smoker_yes  \\\n",
      "0  0.021739  0.321227       0.0  0.251611       0.0         1.0   \n",
      "1  0.000000  0.479150       0.2  0.009636       1.0         0.0   \n",
      "2  0.217391  0.458434       0.6  0.053115       1.0         0.0   \n",
      "3  0.326087  0.181464       0.0  0.333010       1.0         0.0   \n",
      "4  0.304348  0.347592       0.0  0.043816       1.0         0.0   \n",
      "\n",
      "   region_northwest  region_southeast  region_southwest  \n",
      "0               0.0               0.0               1.0  \n",
      "1               0.0               1.0               0.0  \n",
      "2               0.0               1.0               0.0  \n",
      "3               1.0               0.0               0.0  \n",
      "4               1.0               0.0               0.0  \n"
     ]
    }
   ],
   "source": [
    "#Scale the data using min-max scaler: (X-X.min())/(X.max()-X.min())\n",
    "scaler = MinMaxScaler()\n",
    "X_scaled = pd.DataFrame(scaler.fit_transform(X), columns=X.columns)\n",
    "\n",
    "print(df_scaled.head())"
   ]
  },
  {
   "cell_type": "code",
   "execution_count": 28,
   "metadata": {},
   "outputs": [],
   "source": [
    "X_train, X_test, y_train, y_test = train_test_split(X_scaled, y, test_size=0.2, random_state=42)"
   ]
  },
  {
   "cell_type": "code",
   "execution_count": 29,
   "metadata": {},
   "outputs": [
    {
     "name": "stdout",
     "output_type": "stream",
     "text": [
      "Training Results:\n",
      "Mean Squared Error: 37277681.70201867\n",
      "R^2 Score: 0.7417255854683333\n",
      "\n",
      "Testing Results:\n",
      "Mean Squared Error: 33596915.85136148\n",
      "R^2 Score: 0.7835929767120722\n"
     ]
    }
   ],
   "source": [
    "#linear regression and display training and testing errors\n",
    "model = LinearRegression()\n",
    "model.fit(X_train, y_train)\n",
    "y_train_pred = model.predict(X_train)\n",
    "y_test_pred = model.predict(X_test)\n",
    "\n",
    "#Display training results \n",
    "print(\"Training Results:\")\n",
    "print(f\"Mean Squared Error: {mean_squared_error(y_train, y_train_pred)}\")\n",
    "print(f\"R^2 Score: {r2_score(y_train, y_train_pred)}\")\n",
    "\n",
    "# Display testing results\n",
    "print(\"\\nTesting Results:\")\n",
    "print(f\"Mean Squared Error: {mean_squared_error(y_test, y_test_pred)}\")\n",
    "print(f\"R^2 Score: {r2_score(y_test, y_test_pred)}\")\n"
   ]
  },
  {
   "cell_type": "code",
   "execution_count": 32,
   "metadata": {},
   "outputs": [
    {
     "name": "stdout",
     "output_type": "stream",
     "text": [
      "Training Results:\n",
      "Mean Squared Error: 22831078.676334273\n",
      "R^2 Score: 0.8418173231535121\n",
      "\n",
      "Testing Results:\n",
      "Mean Squared Error: 20712805.987918362\n",
      "R^2 Score: 0.8665830903164841\n"
     ]
    }
   ],
   "source": [
    "#polynomial regression and display training and testing errors\n",
    "\n",
    "poly = PolynomialFeatures(degree=2)\n",
    "X_train_poly = poly.fit_transform(X_train)\n",
    "X_test_poly = poly.transform(X_test)\n",
    "\n",
    "# Initialize and train the polynomial regression model\n",
    "model = LinearRegression()\n",
    "model.fit(X_train_poly, y_train)\n",
    "\n",
    "# Make predictions on the training set\n",
    "y_train_pred = model.predict(X_train_poly)\n",
    "\n",
    "# Make predictions on the testing set\n",
    "y_test_pred = model.predict(X_test_poly)\n",
    "\n",
    "# Display training results\n",
    "print(\"Training Results:\")\n",
    "print(f\"Mean Squared Error: {mean_squared_error(y_train, y_train_pred)}\")\n",
    "print(f\"R^2 Score: {r2_score(y_train, y_train_pred)}\")\n",
    "\n",
    "# Display testing results\n",
    "print(\"\\nTesting Results:\")\n",
    "print(f\"Mean Squared Error: {mean_squared_error(y_test, y_test_pred)}\")\n",
    "print(f\"R^2 Score: {r2_score(y_test, y_test_pred)}\")\n"
   ]
  },
  {
   "cell_type": "code",
   "execution_count": 35,
   "metadata": {},
   "outputs": [
    {
     "name": "stdout",
     "output_type": "stream",
     "text": [
      "Training Results:\n",
      "Mean Squared Error: 3744475.659621949\n",
      "R^2 Score: 0.9740568025005545\n",
      "\n",
      "Testing Results:\n",
      "Mean Squared Error: 20996839.519771587\n",
      "R^2 Score: 0.8647535518131806\n"
     ]
    }
   ],
   "source": [
    "#random forest regression and display training and testing errors\n",
    "model = RandomForestRegressor(random_state=42)\n",
    "model.fit(X_train, y_train)\n",
    "\n",
    "# Make predictions on the training set\n",
    "y_train_pred = model.predict(X_train)\n",
    "\n",
    "# Make predictions on the testing set\n",
    "y_test_pred = model.predict(X_test)\n",
    "\n",
    "# Display training results\n",
    "print(\"Training Results:\")\n",
    "print(f\"Mean Squared Error: {mean_squared_error(y_train, y_train_pred)}\")\n",
    "print(f\"R^2 Score: {r2_score(y_train, y_train_pred)}\")\n",
    "\n",
    "# Display testing results\n",
    "print(\"\\nTesting Results:\")\n",
    "print(f\"Mean Squared Error: {mean_squared_error(y_test, y_test_pred)}\")\n",
    "print(f\"R^2 Score: {r2_score(y_test, y_test_pred)}\")"
   ]
  }
 ],
 "metadata": {
  "kernelspec": {
   "display_name": "Python 3",
   "language": "python",
   "name": "python3"
  },
  "language_info": {
   "codemirror_mode": {
    "name": "ipython",
    "version": 3
   },
   "file_extension": ".py",
   "mimetype": "text/x-python",
   "name": "python",
   "nbconvert_exporter": "python",
   "pygments_lexer": "ipython3",
   "version": "3.13.1"
  }
 },
 "nbformat": 4,
 "nbformat_minor": 2
}
